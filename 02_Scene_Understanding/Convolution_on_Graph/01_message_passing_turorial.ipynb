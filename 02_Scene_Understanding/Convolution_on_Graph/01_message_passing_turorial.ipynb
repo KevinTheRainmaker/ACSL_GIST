{
 "cells": [
  {
   "cell_type": "code",
   "execution_count": 18,
   "metadata": {},
   "outputs": [
    {
     "name": "stdout",
     "output_type": "stream",
     "text": [
      "1.12.1\n"
     ]
    }
   ],
   "source": [
    "import torch\n",
    "print(torch.__version__)"
   ]
  },
  {
   "cell_type": "code",
   "execution_count": 24,
   "metadata": {},
   "outputs": [],
   "source": [
    "# create sample node feature\n",
    "X = torch.Tensor(torch.randn(6,3)) # torch.randn(#_of_node_feature, feature_dim)"
   ]
  },
  {
   "cell_type": "code",
   "execution_count": 25,
   "metadata": {},
   "outputs": [],
   "source": [
    "# define sample adjacency matrix\n",
    "adj = torch.Tensor([[0,1,0,0,1,0],\n",
    "                    [1,0,1,0,1,0],\n",
    "                    [0,1,0,1,0,0],\n",
    "                    [0,0,1,0,1,1],\n",
    "                    [1,1,0,1,0,0],\n",
    "                    [0,0,0,1,0,0]])"
   ]
  },
  {
   "cell_type": "code",
   "execution_count": 26,
   "metadata": {},
   "outputs": [
    {
     "name": "stdout",
     "output_type": "stream",
     "text": [
      "tensor([[0., 1., 0., 0., 1., 0.],\n",
      "        [1., 0., 1., 0., 1., 0.],\n",
      "        [0., 1., 0., 1., 0., 0.],\n",
      "        [0., 0., 1., 0., 1., 1.],\n",
      "        [1., 1., 0., 1., 0., 0.],\n",
      "        [0., 0., 0., 1., 0., 0.]])\n",
      "torch.Size([6, 6])\n"
     ]
    }
   ],
   "source": [
    "print(adj)\n",
    "print(adj.shape)"
   ]
  },
  {
   "cell_type": "code",
   "execution_count": 27,
   "metadata": {},
   "outputs": [
    {
     "name": "stdout",
     "output_type": "stream",
     "text": [
      "tensor([[1., 1., 0., 0., 1., 0.],\n",
      "        [1., 1., 1., 0., 1., 0.],\n",
      "        [0., 1., 1., 1., 0., 0.],\n",
      "        [0., 0., 1., 1., 1., 1.],\n",
      "        [1., 1., 0., 1., 1., 0.],\n",
      "        [0., 0., 0., 1., 0., 1.]])\n"
     ]
    }
   ],
   "source": [
    "# need self loops to use self informations\n",
    "tilde = adj + torch.eye(adj.shape[0])\n",
    "print(tilde)"
   ]
  },
  {
   "cell_type": "code",
   "execution_count": 28,
   "metadata": {},
   "outputs": [
    {
     "name": "stdout",
     "output_type": "stream",
     "text": [
      "tensor([[0, 0, 0, 1, 1, 1, 1, 2, 2, 2, 3, 3, 3, 3, 4, 4, 4, 4, 5, 5],\n",
      "        [0, 1, 4, 0, 1, 2, 4, 1, 2, 3, 2, 3, 4, 5, 0, 1, 3, 4, 3, 5]])\n",
      "tensor([1., 1., 1., 1., 1., 1., 1., 1., 1., 1., 1., 1., 1., 1., 1., 1., 1., 1.,\n",
      "        1., 1.])\n",
      "torch.Size([6, 6])\n"
     ]
    }
   ],
   "source": [
    "# to sparse matrix\n",
    "sps = tilde.to_sparse()\n",
    "print(sps.indices())\n",
    "print(sps.values())\n",
    "print(sps.size())"
   ]
  },
  {
   "cell_type": "markdown",
   "metadata": {},
   "source": [
    "$$\n",
    "Z = \\tilde{D}^{-{1\\over2}} \\tilde{A} \\tilde{D}^{-{1\\over2}} X\\theta\n",
    "$$\n",
    "\n",
    "위 식에서 normalize 부분($\\tilde{D}^{-{1\\over2}}$)은 잠시 제외하고 계산을 해보자. ($X\\theta$도 여기서는 초기화된 행렬 X로 가정)"
   ]
  },
  {
   "cell_type": "code",
   "execution_count": 29,
   "metadata": {},
   "outputs": [
    {
     "name": "stdout",
     "output_type": "stream",
     "text": [
      "tensor([[ 1.7163,  0.9421,  1.5012],\n",
      "        [-0.7211, -1.1423,  0.0231],\n",
      "        [-0.0166, -1.2985, -1.9682],\n",
      "        [ 0.7414,  0.1619,  0.4191],\n",
      "        [-0.5905, -1.0229, -1.6215],\n",
      "        [-0.0281, -1.4829,  0.7234]])\n",
      "tensor([[1., 1., 0., 0., 1., 0.],\n",
      "        [1., 1., 1., 0., 1., 0.],\n",
      "        [0., 1., 1., 1., 0., 0.],\n",
      "        [0., 0., 1., 1., 1., 1.],\n",
      "        [1., 1., 0., 1., 1., 0.],\n",
      "        [0., 0., 0., 1., 0., 1.]])\n"
     ]
    }
   ],
   "source": [
    "print(X)\n",
    "print(tilde)"
   ]
  },
  {
   "cell_type": "code",
   "execution_count": 31,
   "metadata": {},
   "outputs": [
    {
     "name": "stdout",
     "output_type": "stream",
     "text": [
      "tensor([[ 0.4046, -1.2230, -0.0972],\n",
      "        [ 0.3881, -2.5215, -2.0653],\n",
      "        [ 0.0038, -2.2788, -1.5259],\n",
      "        [ 0.1062, -3.6423, -2.4472],\n",
      "        [ 1.1461, -1.0611,  0.3220],\n",
      "        [ 0.7133, -1.3209,  1.1425]])\n"
     ]
    }
   ],
   "source": [
    "Z = torch.matmul(tilde, X)\n",
    "print(Z)"
   ]
  }
 ],
 "metadata": {
  "kernelspec": {
   "display_name": "Python 3.10.5 ('pytorch_vision')",
   "language": "python",
   "name": "python3"
  },
  "language_info": {
   "codemirror_mode": {
    "name": "ipython",
    "version": 3
   },
   "file_extension": ".py",
   "mimetype": "text/x-python",
   "name": "python",
   "nbconvert_exporter": "python",
   "pygments_lexer": "ipython3",
   "version": "3.10.5"
  },
  "orig_nbformat": 4,
  "vscode": {
   "interpreter": {
    "hash": "616154aabd2dc14828d91158a7112b56c3a867c588e59d80a617e79dec008fb9"
   }
  }
 },
 "nbformat": 4,
 "nbformat_minor": 2
}
